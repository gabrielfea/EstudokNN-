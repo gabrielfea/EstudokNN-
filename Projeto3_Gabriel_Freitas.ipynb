{
  "nbformat": 4,
  "nbformat_minor": 0,
  "metadata": {
    "colab": {
      "provenance": [],
      "authorship_tag": "ABX9TyOGzWxDPORTywHnMFrGCmHJ",
      "include_colab_link": true
    },
    "kernelspec": {
      "name": "python3",
      "display_name": "Python 3"
    },
    "language_info": {
      "name": "python"
    }
  },
  "cells": [
    {
      "cell_type": "markdown",
      "metadata": {
        "id": "view-in-github",
        "colab_type": "text"
      },
      "source": [
        "<a href=\"https://colab.research.google.com/github/gabrielfea/EstudokNN-/blob/main/Projeto3_Gabriel_Freitas.ipynb\" target=\"_parent\"><img src=\"https://colab.research.google.com/assets/colab-badge.svg\" alt=\"Open In Colab\"/></a>"
      ]
    },
    {
      "cell_type": "markdown",
      "source": [
        "**Projeto 3 - DISCIPLINA DE RECONHECIMENTO DE PADRÕES - MESTRADO UDESC**\n",
        "\n",
        "GABRIEL VINICIUS BOIN FREITAS"
      ],
      "metadata": {
        "id": "ETi23x_4aYwD"
      }
    },
    {
      "cell_type": "markdown",
      "source": [
        "Neste projeto vocês vão usar os classificadores Knn do projeto 2. Seu trabalho consiste em avaliar a\n",
        "opinião dos descritores em conjunto:\n",
        "Seja g(x) a opinião dos classificadores Knn (K=1,3,5,7,...) sobre uma amostra x. A classe escolhida\n",
        "será aquela que obtiver maior votação. Caso não haja consenso (duas ou mais classes com mesma\n",
        "votação), escolha aleatoriamente uma das mais votadas. Utilize um número ímpar de classificadores\n",
        "para realizar a combinação (d=5,7,9,13,...).\n",
        "– Verifique a performance do \"novo classificador\" combinado comparando com cada um\n",
        "separadamente.\n",
        "– Faça a comparação utilizando pelo menos 3 (três) bases diferentes."
      ],
      "metadata": {
        "id": "luhiAVH4_ICb"
      }
    },
    {
      "cell_type": "markdown",
      "source": [
        "#Download das bases escolhidas:"
      ],
      "metadata": {
        "id": "FGYGVHuojago"
      }
    },
    {
      "cell_type": "code",
      "source": [
        "!pip install ucimlrepo"
      ],
      "metadata": {
        "colab": {
          "base_uri": "https://localhost:8080/",
          "height": 0
        },
        "id": "vhej0DB7PXDI",
        "outputId": "d6f0b03d-0c53-401c-9150-92553be72308"
      },
      "execution_count": 1,
      "outputs": [
        {
          "output_type": "stream",
          "name": "stdout",
          "text": [
            "Requirement already satisfied: ucimlrepo in /usr/local/lib/python3.10/dist-packages (0.0.3)\n"
          ]
        }
      ]
    },
    {
      "cell_type": "code",
      "source": [
        "from ucimlrepo import fetch_ucirepo\n",
        "\n",
        "# fetch dataset / escolhi somente bases com features numéricas para facilitar e não ter que tratar as categóricas\n",
        "iris = fetch_ucirepo(id=53)\n",
        "rice_cammeo_and_osmancik = fetch_ucirepo(id=545)\n",
        "breast_cancer_wisconsin_diagnostic = fetch_ucirepo(id=17)\n",
        "letter_recognition = fetch_ucirepo(id=59)\n",
        "glass_identification = fetch_ucirepo(id=42)\n",
        "optical_recognition_of_handwritten_digits = fetch_ucirepo(id=80)\n",
        "wine_quality = fetch_ucirepo(id=186)\n",
        "sepsis_survival_minimal_clinical_records = fetch_ucirepo(id=827)\n",
        "\n",
        "datasets = [iris,rice_cammeo_and_osmancik,breast_cancer_wisconsin_diagnostic,letter_recognition,glass_identification,optical_recognition_of_handwritten_digits,wine_quality,sepsis_survival_minimal_clinical_records]\n",
        "names = [\"Iris\",\"Rice Cammeoa and Osmancik\",\"Breast cancer Wisconsin diagnostic\",\"Letter Recognition\",\"Glass identification\",\"Optical recognition of handwritten digits\",\"Wine quality\",\"Sepsis survival minimal clinical records\"]"
      ],
      "metadata": {
        "id": "uODxPaHCQFQQ"
      },
      "execution_count": 2,
      "outputs": []
    },
    {
      "cell_type": "markdown",
      "source": [
        "# Função de Split em z1 (train), z2 (test) e z3 (validation) - respeitando a quantidade por classe - parâmetro stratify:"
      ],
      "metadata": {
        "id": "igFMxfDCjHJt"
      }
    },
    {
      "cell_type": "code",
      "source": [
        "import pandas as pd\n",
        "from sklearn.model_selection import train_test_split\n",
        "from sklearn import preprocessing\n",
        "import numpy as np\n",
        "\n",
        "def split(df, silent):\n",
        "  perc_train = 0.25\n",
        "  perc_test = 0.25\n",
        "  perc_val = 0.50\n",
        "\n",
        "  #padroniza com min_max_scaler\n",
        "  X = df.data.features\n",
        "  X = X.values\n",
        "  min_max_scaler = preprocessing.MinMaxScaler()\n",
        "  X_scaled = min_max_scaler.fit_transform(X)\n",
        "  X = pd.DataFrame(X_scaled)\n",
        "\n",
        "  #transforma y em categorias\n",
        "  y = df.data.targets\n",
        "\n",
        "  X_train, X_test, y_train, y_test = train_test_split(X, y, test_size=perc_test, stratify=y)\n",
        "  X_train, X_val, y_train, y_val = train_test_split(X_train, y_train, test_size=perc_val/(1-perc_test), stratify=y_train)\n",
        "  z1 = pd.concat([X_train, y_train], axis=1)\n",
        "  z2 = pd.concat([X_test, y_test], axis=1)\n",
        "  z3 = pd.concat([X_val, y_val], axis=1)\n",
        "  distribuicao = {\"z1\":len(z1), \"z2\": len(z2), \"z3\": len(z3)}\n",
        "  if silent == False:\n",
        "    print(f\"Train: {perc_train*100}% |Test: {perc_test*100}% |Validation: {perc_val*100}%\")\n",
        "    print(distribuicao)\n",
        "  return z1, z2 , z3\n"
      ],
      "metadata": {
        "id": "3sErqH3Sb37D"
      },
      "execution_count": 3,
      "outputs": []
    },
    {
      "cell_type": "markdown",
      "source": [
        "# Funções que determinam Ks:"
      ],
      "metadata": {
        "id": "NmetopphqTTT"
      }
    },
    {
      "cell_type": "code",
      "source": [
        "from sklearn.neighbors import KNeighborsClassifier\n",
        "from sklearn.metrics import accuracy_score\n",
        "def encontra_k(z1, z2,silent):\n",
        "  k_min = 1\n",
        "  k_max = len(z1) if len(z1) <= 20 else 20\n",
        "  k_interval = 2\n",
        "  dominio = range(k_min, k_max, k_interval)\n",
        "  X = z1.iloc[:,:-1]\n",
        "  y = z1.iloc[:,-1]\n",
        "  X_hat = z2.iloc[:,:-1]\n",
        "  y_hat = z2.iloc[:,-1]\n",
        "  melhor_k = {}\n",
        "  for i in dominio:\n",
        "    neigh = KNeighborsClassifier(n_neighbors=i)\n",
        "    neigh.fit(X, y)\n",
        "    melhor_k[i] = accuracy_score(y_hat, neigh.predict(X_hat))\n",
        "  melhor_k = sorted(melhor_k.items(), key=lambda x:x[1])\n",
        "  if silent == False:\n",
        "    print(f\"O melhor k foi {melhor_k[-1][0]}, que obteve acurácia de {np.round(100*melhor_k[-1][1],2)}%.\")\n",
        "  k = melhor_k[-1][0]\n",
        "  return k"
      ],
      "metadata": {
        "id": "uRhQSfAIqc4y"
      },
      "execution_count": 4,
      "outputs": []
    },
    {
      "cell_type": "code",
      "source": [
        "def teste_projeto_3(k, num_votantes=5):\n",
        "  k_base = k\n",
        "  lista_k = [v*3+k_base for v in range(0,num_votantes)]\n",
        "  print(f\"{num_votantes} ks:{lista_k} para criar os votos.\")\n",
        "  return lista_k"
      ],
      "metadata": {
        "id": "Cpl6UCTzr4Da"
      },
      "execution_count": 5,
      "outputs": []
    },
    {
      "cell_type": "markdown",
      "source": [
        "# Função que apura os votos e a votação majoritária de qual classe pertence cada amostra"
      ],
      "metadata": {
        "id": "QeFfTLBP-tGl"
      }
    },
    {
      "cell_type": "code",
      "source": [
        "import numpy as np\n",
        "def preve_amostras_pelos_modelos(z1,z3,lista_k,silent):\n",
        "  X = z1.iloc[:,:-1]\n",
        "  y = z1.iloc[:,-1]\n",
        "  X_hat = z3.iloc[:,:-1]\n",
        "  y_hat = z3.iloc[:,-1]\n",
        "\n",
        "  compara = pd.DataFrame()\n",
        "  compara.index = X_hat.index\n",
        "\n",
        "\n",
        "  for i,k in enumerate(lista_k):\n",
        "    neigh = KNeighborsClassifier(n_neighbors=k)\n",
        "    neigh.fit(X, y)\n",
        "    compara[f\"v{i+1}\"] = neigh.predict(X_hat)\n",
        "  compara2 = compara.transpose()\n",
        "  compara2 = compara2.mode()\n",
        "  compara2 = compara2.transpose()\n",
        "  compara = pd.concat([compara, compara2], axis=1)\n",
        "  compara[\"ground-truth\"] = y_hat\n",
        "  return compara"
      ],
      "metadata": {
        "id": "M7DI9Db1ttTG"
      },
      "execution_count": 6,
      "outputs": []
    },
    {
      "cell_type": "markdown",
      "source": [
        "# Execução e resultados do Projeto 3:"
      ],
      "metadata": {
        "id": "jOpKVEYlByVr"
      }
    },
    {
      "cell_type": "code",
      "source": [
        "for i,n in zip(datasets,names):\n",
        "    silent = False\n",
        "    if silent == False:\n",
        "      print(\"-------------------\")\n",
        "      print(\"-------------------\")\n",
        "      print(f\"\\033[1m{n}\\033[0m\")\n",
        "    z1, z2 , z3 = split(i,silent)\n",
        "    k=encontra_k(z1, z2,silent)\n",
        "    lista_k = teste_projeto_3(k, num_votantes=5)\n",
        "    compara = preve_amostras_pelos_modelos(z1,z3,lista_k,silent)\n",
        "    compara = compara.dropna(axis=1)\n",
        "    #print(compara)\n",
        "    for i in range(1,len(lista_k)+1):\n",
        "      acuracia = np.round(100*accuracy_score(compara.iloc[:,i-1], compara[\"ground-truth\"]),2)\n",
        "      print(f\"Acurácia modelo{i}: {acuracia}\")\n",
        "    v_maj = np.round(100*accuracy_score(compara.iloc[:,-2], compara[\"ground-truth\"]),2)\n",
        "    print(f\"Acurácia Fusão: Voto majoritário: {v_maj}\")\n"
      ],
      "metadata": {
        "colab": {
          "base_uri": "https://localhost:8080/",
          "height": 0
        },
        "id": "vjDT2reBxoOl",
        "outputId": "a6e95365-6e2b-416f-985b-439e7bb56726"
      },
      "execution_count": 21,
      "outputs": [
        {
          "output_type": "stream",
          "name": "stdout",
          "text": [
            "-------------------\n",
            "-------------------\n",
            "\u001b[1mIris\u001b[0m\n",
            "Train: 25.0% |Test: 25.0% |Validation: 50.0%\n",
            "{'z1': 37, 'z2': 38, 'z3': 75}\n",
            "O melhor k foi 3, que obteve acurácia de 97.37%.\n",
            "5 ks:[3, 6, 9, 12, 15] para criar os votos.\n",
            "Acurácia modelo1: 96.0\n",
            "Acurácia modelo2: 96.0\n",
            "Acurácia modelo3: 93.33\n",
            "Acurácia modelo4: 92.0\n",
            "Acurácia modelo5: 92.0\n",
            "Acurácia Fusão: Voto majoritário: 93.33\n",
            "-------------------\n",
            "-------------------\n",
            "\u001b[1mRice Cammeoa and Osmancik\u001b[0m\n",
            "Train: 25.0% |Test: 25.0% |Validation: 50.0%\n",
            "{'z1': 952, 'z2': 953, 'z3': 1905}\n",
            "O melhor k foi 15, que obteve acurácia de 91.71%.\n",
            "5 ks:[15, 18, 21, 24, 27] para criar os votos.\n",
            "Acurácia modelo1: 93.02\n",
            "Acurácia modelo2: 93.12\n",
            "Acurácia modelo3: 93.28\n",
            "Acurácia modelo4: 93.18\n",
            "Acurácia modelo5: 93.12\n",
            "Acurácia Fusão: Voto majoritário: 93.12\n",
            "-------------------\n",
            "-------------------\n",
            "\u001b[1mBreast cancer Wisconsin diagnostic\u001b[0m\n",
            "Train: 25.0% |Test: 25.0% |Validation: 50.0%\n",
            "{'z1': 142, 'z2': 143, 'z3': 284}\n",
            "O melhor k foi 15, que obteve acurácia de 96.5%.\n",
            "5 ks:[15, 18, 21, 24, 27] para criar os votos.\n",
            "Acurácia modelo1: 94.01\n",
            "Acurácia modelo2: 94.72\n",
            "Acurácia modelo3: 94.01\n",
            "Acurácia modelo4: 94.37\n",
            "Acurácia modelo5: 94.37\n",
            "Acurácia Fusão: Voto majoritário: 94.37\n",
            "-------------------\n",
            "-------------------\n",
            "\u001b[1mLetter Recognition\u001b[0m\n",
            "Train: 25.0% |Test: 25.0% |Validation: 50.0%\n",
            "{'z1': 5000, 'z2': 5000, 'z3': 10000}\n",
            "O melhor k foi 1, que obteve acurácia de 90.86%.\n",
            "5 ks:[1, 4, 7, 10, 13] para criar os votos.\n",
            "Acurácia modelo1: 91.62\n",
            "Acurácia modelo2: 88.69\n",
            "Acurácia modelo3: 87.98\n",
            "Acurácia modelo4: 86.21\n",
            "Acurácia modelo5: 84.61\n",
            "Acurácia Fusão: Voto majoritário: 88.59\n",
            "-------------------\n",
            "-------------------\n",
            "\u001b[1mGlass identification\u001b[0m\n",
            "Train: 25.0% |Test: 25.0% |Validation: 50.0%\n",
            "{'z1': 53, 'z2': 54, 'z3': 107}\n",
            "O melhor k foi 9, que obteve acurácia de 62.96%.\n",
            "5 ks:[9, 12, 15, 18, 21] para criar os votos.\n",
            "Acurácia modelo1: 58.88\n",
            "Acurácia modelo2: 52.34\n",
            "Acurácia modelo3: 46.73\n",
            "Acurácia modelo4: 42.06\n",
            "Acurácia modelo5: 38.32\n",
            "Acurácia Fusão: Voto majoritário: 54.21\n",
            "-------------------\n",
            "-------------------\n",
            "\u001b[1mOptical recognition of handwritten digits\u001b[0m\n",
            "Train: 25.0% |Test: 25.0% |Validation: 50.0%\n",
            "{'z1': 1405, 'z2': 1405, 'z3': 2810}\n",
            "O melhor k foi 1, que obteve acurácia de 98.36%.\n",
            "5 ks:[1, 4, 7, 10, 13] para criar os votos.\n",
            "Acurácia modelo1: 97.97\n",
            "Acurácia modelo2: 97.44\n",
            "Acurácia modelo3: 97.4\n",
            "Acurácia modelo4: 96.98\n",
            "Acurácia modelo5: 96.83\n",
            "Acurácia Fusão: Voto majoritário: 97.37\n",
            "-------------------\n",
            "-------------------\n",
            "\u001b[1mWine quality\u001b[0m\n",
            "Train: 25.0% |Test: 25.0% |Validation: 50.0%\n",
            "{'z1': 1224, 'z2': 1225, 'z3': 2449}\n",
            "O melhor k foi 1, que obteve acurácia de 52.24%.\n",
            "5 ks:[1, 4, 7, 10, 13] para criar os votos.\n",
            "Acurácia modelo1: 52.92\n",
            "Acurácia modelo2: 51.41\n",
            "Acurácia modelo3: 50.88\n",
            "Acurácia modelo4: 50.96\n",
            "Acurácia modelo5: 52.43\n",
            "Acurácia Fusão: Voto majoritário: 53.53\n",
            "-------------------\n",
            "-------------------\n",
            "\u001b[1mSepsis survival minimal clinical records\u001b[0m\n",
            "Train: 25.0% |Test: 25.0% |Validation: 50.0%\n",
            "{'z1': 27585, 'z2': 27586, 'z3': 55170}\n",
            "O melhor k foi 9, que obteve acurácia de 92.63%.\n",
            "5 ks:[9, 12, 15, 18, 21] para criar os votos.\n",
            "Acurácia modelo1: 92.63\n",
            "Acurácia modelo2: 92.55\n",
            "Acurácia modelo3: 92.55\n",
            "Acurácia modelo4: 92.55\n",
            "Acurácia modelo5: 92.63\n",
            "Acurácia Fusão: Voto majoritário: 92.55\n"
          ]
        }
      ]
    }
  ]
}